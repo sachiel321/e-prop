{
 "cells": [
  {
   "cell_type": "code",
   "execution_count": 2,
   "metadata": {},
   "outputs": [],
   "source": [
    "import numpy as np\n",
    "import torch"
   ]
  },
  {
   "cell_type": "code",
   "execution_count": 3,
   "metadata": {},
   "outputs": [
    {
     "data": {
      "text/plain": [
       "tensor([12, 26, 14], dtype=torch.int32)"
      ]
     },
     "execution_count": 3,
     "metadata": {},
     "output_type": "execute_result"
    }
   ],
   "source": [
    "dims = (2,2,3)\n",
    "frac_inhibitory = 0.5\n",
    "n_nodes = dims[0]*dims[1]*dims[2]\n",
    "node_types = np.random.uniform(size=n_nodes)\n",
    "adj_mat = np.zeros((n_nodes, n_nodes))\n",
    "for i in range(n_nodes):\n",
    "    z = np.int32(i/(dims[0]*dims[1]))\n",
    "    y = np.int32((i % (dims[0]*dims[1]))/dims[0])\n",
    "\n",
    "conn_window = 3\n",
    "fanout = 3\n",
    "choice_neighbors = np.random.choice(conn_window**3, fanout, replace=False)\n",
    "torch.from_numpy(choice_neighbors)"
   ]
  },
  {
   "cell_type": "code",
   "execution_count": 13,
   "metadata": {},
   "outputs": [
    {
     "name": "stdout",
     "output_type": "stream",
     "text": [
      "tensor([ 0, 22, 14], dtype=torch.int32)\n",
      "[-3]\n",
      "[-3, 8]\n",
      "[-3, 8, 5]\n"
     ]
    }
   ],
   "source": [
    "node_types = np.random.uniform(size=n_nodes)\n",
    "node_types_torch = torch.tensor(node_types).uniform_(0,1)\n",
    "node_types = node_types_torch\n",
    "adj_mat_torch = torch.zeros((n_nodes, n_nodes))\n",
    "z = torch.tensor(66/(dims[0]*dims[1])).int()\n",
    "y = torch.tensor((i % (dims[0]*dims[1])/dims[0])).int()\n",
    "x = torch.tensor((i % (dims[0]*dims[1])) % dims[0]).int()\n",
    "\n",
    "conn_window = 3\n",
    "fanout = 3\n",
    "list_connected = []\n",
    "list_weights = []\n",
    "\n",
    "z_c = torch.min(torch.max(z,torch.tensor(conn_window/2).int()),torch.tensor(dims[2]-1).int()-torch.tensor(conn_window/2).int())\n",
    "y_c = torch.min(torch.max(y,torch.tensor(conn_window/2).int()),torch.tensor(dims[1]-1).int()-torch.tensor(conn_window/2).int())\n",
    "x_c = torch.min(torch.max(x,torch.tensor(conn_window/2).int()),torch.tensor(dims[0]-1).int()-torch.tensor(conn_window/2).int())\n",
    "choice_neighbors = np.random.choice(conn_window**3, fanout, replace=False)\n",
    "choice_neighbors = torch.from_numpy(choice_neighbors)\n",
    "list_connected = []\n",
    "list_weights = []\n",
    "from_node_type = 1 - np.int32((node_types[i]+1)/2)\n",
    "print(choice_neighbors)\n",
    "for neighbor in choice_neighbors:\n",
    "    z_loc = neighbor.clone().detach()//(conn_window**2) + z_c - 1\n",
    "    y_loc = (neighbor % (conn_window**2)) // conn_window + y_c - 1\n",
    "    x_loc = (neighbor % (conn_window**2)) % conn_window + x_c - 1\n",
    "    neighbor_id = (z_loc*dims[0]*dims[1] + y_loc*dims[0] + x_loc).cpu().item()\n",
    "    to_node_type = 1 - ((node_types[neighbor_id]+1)/2)\n",
    "    list_connected.append(neighbor_id)\n",
    "    #list_weights.append(w_matrix[from_node_type, to_node_type])\n",
    "    #adj_mat[i, neighbor_id] = w_matrix[from_node_type, to_node_type]\n",
    "    print(list_connected)"
   ]
  },
  {
   "cell_type": "code",
   "execution_count": 19,
   "metadata": {},
   "outputs": [
    {
     "data": {
      "text/plain": [
       "8103.083927575384"
      ]
     },
     "execution_count": 19,
     "metadata": {},
     "output_type": "execute_result"
    }
   ],
   "source": [
    "spike_propagation_time = np.exp(9)\n",
    "spike_propagation_time"
   ]
  },
  {
   "cell_type": "code",
   "execution_count": null,
   "metadata": {},
   "outputs": [],
   "source": []
  }
 ],
 "metadata": {
  "kernelspec": {
   "display_name": "Python 3",
   "language": "python",
   "name": "python3"
  },
  "language_info": {
   "codemirror_mode": {
    "name": "ipython",
    "version": 3
   },
   "file_extension": ".py",
   "mimetype": "text/x-python",
   "name": "python",
   "nbconvert_exporter": "python",
   "pygments_lexer": "ipython3",
   "version": "3.8.3"
  }
 },
 "nbformat": 4,
 "nbformat_minor": 4
}
